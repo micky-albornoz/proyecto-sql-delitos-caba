{
 "cells": [
  {
   "cell_type": "markdown",
   "id": "c74064f7",
   "metadata": {},
   "source": [
    "# Visualizaciones geográficas de los delitos en CABA en el año 2024"
   ]
  },
  {
   "cell_type": "markdown",
   "id": "5645fe20",
   "metadata": {},
   "source": [
    "## Librerías y configuración inicial"
   ]
  },
  {
   "cell_type": "code",
   "execution_count": 1,
   "id": "c7ed7e33",
   "metadata": {},
   "outputs": [],
   "source": [
    "import pandas as pd\n",
    "import folium\n",
    "from folium.plugins import MarkerCluster, HeatMap"
   ]
  },
  {
   "cell_type": "markdown",
   "id": "f70ccaf1",
   "metadata": {},
   "source": [
    "## Carga y limpieza de datos"
   ]
  },
  {
   "cell_type": "code",
   "execution_count": 3,
   "id": "9bcd6da5",
   "metadata": {},
   "outputs": [
    {
     "name": "stdout",
     "output_type": "stream",
     "text": [
      "Index(['id-mapa', 'anio', 'mes', 'dia', 'fecha', 'franja', 'tipo', 'subtipo',\n",
      "       'uso_arma', 'uso_moto', 'barrio', 'comuna', 'latitud', 'longitud',\n",
      "       'cantidad'],\n",
      "      dtype='object')\n"
     ]
    }
   ],
   "source": [
    "print(df.columns)"
   ]
  },
  {
   "cell_type": "code",
   "execution_count": 4,
   "id": "59035354",
   "metadata": {},
   "outputs": [],
   "source": [
    "# Cargar los datos de delitos\n",
    "df = pd.read_csv('delitos_2024.csv')\n",
    "\n",
    "# Limpiar datos: eliminar filas sin latitud o longitud\n",
    "df.dropna(subset=['latitud', 'longitud'], inplace=True)"
   ]
  },
  {
   "cell_type": "markdown",
   "id": "0a138264",
   "metadata": {},
   "source": [
    "## Mapa 1: Marcadores agrupados (Marker cluster)"
   ]
  },
  {
   "cell_type": "code",
   "execution_count": null,
   "id": "c30e66e7",
   "metadata": {},
   "outputs": [
    {
     "name": "stdout",
     "output_type": "stream",
     "text": [
      "Mapa de clusters guardado como 'mapa_delitos_cluster.html'\n"
     ]
    },
    {
     "name": "stderr",
     "output_type": "stream",
     "text": [
      "Bad pipe message: %s [b' q=0.9, */*; q=0.8\\r\\nHost: localhost:33011\\r\\nUser-Agent: Mozilla/5.0 (Macintosh; Intel Mac OS X 10_15_7) Appl', b'ebKit/605.1.15 (KHTML, like Gecko) Version/18.5 Safari/605.1.15\\r\\nAccept-Encoding: gzip, deflate, br\\r', b'ccept-Lan', b'age: es-419, es; q=0.9\\r\\nReferer: https://studious-guide-jj9qxjgr6xwjc5pvg.github.dev/\\r\\nX-Request-ID: e', b'e966489ae068f2f01ecc4ec8fcdd5\\r\\nX-Real-IP: 10.241.0.36\\r\\n', b'Forwarded-Port: 443\\r\\nX-Forwarded-Scheme: https\\r\\nX-Original-URI: /\\r\\nX-Scheme: https\\r\\nsec', b'etch-site: same-site\\r\\npriority: u=0, i\\r\\nsec-']\n"
     ]
    }
   ],
   "source": [
    "# --- Mapa 1: Marcadores Agrupados (Marker Cluster) ---\n",
    "# Usamos una muestra para que el mapa cargue rápido, dado que el dataset es muy grande\n",
    "df_sample = df.sample(n=5000 if len(df) > 5000 else len(df))\n",
    "\n",
    "# Coordenadas de Buenos Aires para centrar el mapa\n",
    "baires_coords = [-34.6037, -58.3816]\n",
    "\n",
    "# Crear el mapa base\n",
    "mapa_cluster = folium.Map(location=baires_coords, zoom_start=12)\n",
    "\n",
    "# Crear un grupo de marcadores\n",
    "marker_cluster = MarkerCluster().add_to(mapa_cluster)\n",
    "\n",
    "# Añadir un punto por cada delito en la muestra\n",
    "for idx, row in df_sample.iterrows():\n",
    "    folium.Marker(\n",
    "        location=[row['latitud'], row['longitud']],\n",
    "        popup=f\"<b>Tipo:</b> {row['subtipo']}<br><b>Fecha:</b> {row['fecha']}\",\n",
    "        icon=None,\n",
    "    ).add_to(marker_cluster)\n",
    "\n",
    "# Guardar el mapa como un archivo HTML (o simplemente mostrarlo)\n",
    "mapa_cluster.save('mapa_delitos_cluster.html')\n",
    "print(\"Mapa de clusters guardado como 'mapa_delitos_cluster.html'\")"
   ]
  },
  {
   "cell_type": "markdown",
   "id": "c4b4054f",
   "metadata": {},
   "source": [
    "## Mapa 2: Mapa de calor (Heatmap)"
   ]
  },
  {
   "cell_type": "code",
   "execution_count": 37,
   "id": "99cbd366",
   "metadata": {},
   "outputs": [
    {
     "name": "stdout",
     "output_type": "stream",
     "text": [
      "Mapa de calor guardado como 'mapa_delitos_calor.html'\n"
     ]
    }
   ],
   "source": [
    "# --- Mapa 2: Mapa de Calor (Heatmap) ---\n",
    "mapa_calor = folium.Map(location=baires_coords, zoom_start=30)\n",
    "\n",
    "# Crear la capa del mapa de calor\n",
    "# Usamos una lista de listas de [latitud, longitud]\n",
    "heat_data = [[row['latitud'], row['longitud']] for index, row in df.iterrows()]\n",
    "\n",
    "HeatMap(heat_data, radius=16, blur=15).add_to(mapa_calor)\n",
    "\n",
    "# Guardar el mapa\n",
    "mapa_calor.save('mapa_delitos_calor.html')\n",
    "print(\"Mapa de calor guardado como 'mapa_delitos_calor.html'\")\n",
    "\n"
   ]
  }
 ],
 "metadata": {
  "kernelspec": {
   "display_name": "Python 3",
   "language": "python",
   "name": "python3"
  },
  "language_info": {
   "codemirror_mode": {
    "name": "ipython",
    "version": 3
   },
   "file_extension": ".py",
   "mimetype": "text/x-python",
   "name": "python",
   "nbconvert_exporter": "python",
   "pygments_lexer": "ipython3",
   "version": "3.12.1"
  }
 },
 "nbformat": 4,
 "nbformat_minor": 5
}
